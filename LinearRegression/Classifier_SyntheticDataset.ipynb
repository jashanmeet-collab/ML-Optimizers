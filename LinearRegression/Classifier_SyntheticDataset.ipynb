{
  "cells": [
    {
      "cell_type": "markdown",
      "metadata": {
        "id": "q1yzlTC-guFM"
      },
      "source": [
        "# Training and Testing Classifier on Synthetic Dataset"
      ]
    },
    {
      "cell_type": "markdown",
      "metadata": {
        "id": "nmGfyXEnguFS"
      },
      "source": [
        "## Different optimizers considers:\n",
        "1. Sklearn's default optimizer\n",
        "2. My coded optimizer directly solving the equation\n",
        "3. Using Bayesian-based optimizer\n",
        "4. Gradient Descent"
      ]
    },
    {
      "cell_type": "code",
      "execution_count": 1,
      "metadata": {
        "id": "-h38TPUTguFV"
      },
      "outputs": [],
      "source": [
        "# Linear Regression Class\n",
        "\n",
        "# Useful import\n",
        "import numpy as np\n",
        "from numpy.linalg import inv\n",
        "from sklearn.linear_model import LinearRegression as LRS\n"
      ]
    },
    {
      "cell_type": "code",
      "source": [
        ""
      ],
      "metadata": {
        "id": "RTtIGB0Kg-jo"
      },
      "execution_count": null,
      "outputs": []
    }
  ],
  "metadata": {
    "kernelspec": {
      "display_name": "Python 3",
      "language": "python",
      "name": "python3"
    },
    "language_info": {
      "codemirror_mode": {
        "name": "ipython",
        "version": 3
      },
      "file_extension": ".py",
      "mimetype": "text/x-python",
      "name": "python",
      "nbconvert_exporter": "python",
      "pygments_lexer": "ipython3",
      "version": "3.6.12"
    },
    "colab": {
      "name": "Classifier_SyntheticDataset.ipynb",
      "provenance": []
    }
  },
  "nbformat": 4,
  "nbformat_minor": 0
}
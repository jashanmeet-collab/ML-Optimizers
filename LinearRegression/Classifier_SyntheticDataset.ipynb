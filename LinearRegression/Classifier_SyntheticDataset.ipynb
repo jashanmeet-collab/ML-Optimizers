{
 "cells": [
  {
   "cell_type": "markdown",
   "metadata": {
    "id": "q1yzlTC-guFM"
   },
   "source": [
    "# Training and Testing Classifier on Synthetic Dataset"
   ]
  },
  {
   "cell_type": "markdown",
   "metadata": {
    "id": "nmGfyXEnguFS"
   },
   "source": [
    "## Different optimizers considers:\n",
    "1. Sklearn's default optimizer\n",
    "2. My coded optimizer directly solving the equation\n",
    "3. Using Bayesian-based optimizer\n",
    "4. Gradient Descent"
   ]
  },
  {
   "cell_type": "code",
   "execution_count": 1,
   "metadata": {
    "id": "-h38TPUTguFV"
   },
   "outputs": [],
   "source": [
    "# Linear Regression Class\n",
    "\n",
    "# Useful import\n",
    "import numpy as np\n",
    "from numpy.linalg import inv\n",
    "from sklearn.linear_model import LinearRegression as LRS\n"
   ]
  },
  {
   "cell_type": "code",
   "execution_count": 2,
   "metadata": {
    "id": "RTtIGB0Kg-jo"
   },
   "outputs": [],
   "source": [
    "#1. fit and predict using: my coded optizer to solve the equations\n",
    "#2. fit2 and predict2 using sklearn library\n",
    "\n",
    "\n",
    "class LinearRegression:\n",
    "\n",
    "    thetha = None\n",
    "    reg = None\n",
    "\n",
    "    def fit(self, X, Y):\n",
    "      #print('fit called')\n",
    "      #print(self.X, self.Y)\n",
    "\n",
    "      #self.setData(X, Y)\n",
    "\n",
    "      X_new = []\n",
    "\n",
    "      for x in X:\n",
    "        X_new.append([1, x])\n",
    "      \n",
    "      X = np.array(X_new)\n",
    "\n",
    "      Y = np.array(Y)\n",
    "      Y  = Y.reshape(Y.shape[0], 1)\n",
    "\n",
    "      # Solving the LR equation\n",
    "      Xt = X.transpose()\n",
    "      XtX = np.matmul(Xt, X)\n",
    "      \n",
    "      IXtX = inv(XtX)\n",
    "      \n",
    "      XtY = np.matmul(Xt, Y)\n",
    "\n",
    "      thetha = np.matmul(IXtX, XtY)\n",
    "\n",
    "      #print(thetha)\n",
    "      self.thetha = thetha\n",
    "\n",
    "    def predict(self, X_test):\n",
    "      #print('predict called')\n",
    "\n",
    "      X_new = []\n",
    "\n",
    "      for x in X_test:\n",
    "        X_new.append([1, x])\n",
    "      \n",
    "      X_new = np.array(X_new)\n",
    "      \n",
    "      X_new = X_new.transpose()\n",
    "\n",
    "      predict_Y = np.matmul(self.thetha.transpose(), X_new)\n",
    "      #print(predict_Y.shape)\n",
    "      predict_Y = predict_Y.reshape(predict_Y.shape[1], 1)\n",
    "      return predict_Y\n",
    "\n",
    "\n",
    "    def fit2(self, X, Y):\n",
    "      X_train_sk = np.array(X)\n",
    "      X_train_sk = X_train_sk.reshape(X_train_sk.shape[0], 1)\n",
    "      reg = LRS().fit(X_train_sk, Y)\n",
    "\n",
    "      self.reg = reg\n",
    "    \n",
    "    def predict2(self, X_test):\n",
    "      X_train_sk = np.array(X_test)\n",
    "      X_train_sk = X_train_sk.reshape(X_train_sk.shape[0], 1)\n",
    "\n",
    "      Y_predict = self.reg.predict(X_train_sk)\n",
    "\n",
    "      return Y_predict"
   ]
  },
  {
   "cell_type": "markdown",
   "metadata": {
    "id": "crOZqZd2iM2i"
   },
   "source": [
    "# Generate a synthetic dataset"
   ]
  },
  {
   "cell_type": "code",
   "execution_count": 3,
   "metadata": {
    "id": "pdgAvSkCiRzu"
   },
   "outputs": [],
   "source": [
    "import random \n",
    "\n",
    "#making some fake data\n",
    "num_points = 100\n",
    "\n",
    "random_range = 20\n",
    "intercept = 4\n",
    "slope = 3\n",
    "\n",
    "intercept_expected = intercept+ random_range/2.0 \n",
    "\n",
    "\n",
    "def createData(num_points):\n",
    "  X = []\n",
    "  Y = []\n",
    "\n",
    "  for i in range(num_points):\n",
    "    X.append(i)\n",
    "    y = slope*i + intercept + random.random()*random_range\n",
    "    Y.append(y)\n",
    "  \n",
    "  return X, Y"
   ]
  },
  {
   "cell_type": "code",
   "execution_count": 4,
   "metadata": {
    "id": "d1CJR9onipRC"
   },
   "outputs": [],
   "source": [
    "# create training data \n",
    "\n",
    "X_train, Y_train =  createData(num_points)"
   ]
  },
  {
   "cell_type": "code",
   "execution_count": 5,
   "metadata": {
    "id": "amSx-AKEirrS"
   },
   "outputs": [],
   "source": [
    "# create test data\n",
    "\n",
    "X_test, Y_test =  createData(num_points)"
   ]
  },
  {
   "cell_type": "code",
   "execution_count": 6,
   "metadata": {
    "colab": {
     "base_uri": "https://localhost:8080/",
     "height": 288
    },
    "id": "YERfKS3oizpF",
    "outputId": "26ff950f-61b7-4d36-8170-1ff7356d9938"
   },
   "outputs": [
    {
     "data": {
      "image/png": "[encoded data removed]",
      "text/plain": [
       "<Figure size 432x288 with 1 Axes>"
      ]
     },
     "metadata": {
      "needs_background": "light"
     },
     "output_type": "display_data"
    }
   ],
   "source": [
    "# visualize the train and test data\n",
    "\n",
    "from matplotlib import pyplot as plt\n",
    "plt.scatter(X_train,Y_train, label = 'Train Data')\n",
    "plt.scatter(X_test, Y_test, label = 'Test Data')\n",
    "plt.legend(fontsize = 20)\n",
    "plt.xlabel('X', fontsize = 20)\n",
    "plt.ylabel('Y', fontsize = 20)\n",
    "plt.show()\n"
   ]
  },
  {
   "cell_type": "markdown",
   "metadata": {
    "id": "IRKnYP7ZjVAR"
   },
   "source": [
    "#A: Using my coded Optimizer"
   ]
  },
  {
   "cell_type": "code",
   "execution_count": 7,
   "metadata": {
    "id": "fu3JUqwtjEjZ"
   },
   "outputs": [],
   "source": [
    "# Let us play with the Linear Regression Optimizers\n",
    "\n",
    "LR = LinearRegression()\n",
    "LR.fit(X_train, Y_train)"
   ]
  },
  {
   "cell_type": "code",
   "execution_count": 8,
   "metadata": {
    "id": "7E3g0imOjsJQ"
   },
   "outputs": [],
   "source": [
    "Y_predict = LR.predict(X_test)"
   ]
  },
  {
   "cell_type": "code",
   "execution_count": 9,
   "metadata": {
    "colab": {
     "base_uri": "https://localhost:8080/",
     "height": 288
    },
    "id": "cdeGp7UqjwAz",
    "outputId": "5cb9fd0d-6b51-4ad7-ecc7-2e543c76d512"
   },
   "outputs": [
    {
     "data": {
      "image/png": "[encoded data removed]",
      "text/plain": [
       "<Figure size 432x288 with 1 Axes>"
      ]
     },
     "metadata": {
      "needs_background": "light"
     },
     "output_type": "display_data"
    }
   ],
   "source": [
    "# See the predict\n",
    "\n",
    "from matplotlib import pyplot as plt\n",
    "plt.scatter(X_test,Y_test, label = 'Ground Truth')\n",
    "plt.scatter(X_test, Y_predict, label = 'Classifier Prediction')\n",
    "plt.legend(fontsize = 20)\n",
    "plt.xlabel('X', fontsize = 20)\n",
    "plt.ylabel('Y', fontsize = 20)\n",
    "plt.show()\n"
   ]
  },
  {
   "cell_type": "code",
   "execution_count": 10,
   "metadata": {
    "id": "RrQN47pmkKJj"
   },
   "outputs": [],
   "source": [
    "#Mean square error using SK-learn\n",
    "from sklearn.metrics import mean_squared_error"
   ]
  },
  {
   "cell_type": "code",
   "execution_count": 11,
   "metadata": {},
   "outputs": [],
   "source": [
    "Y_true=Y_train"
   ]
  },
  {
   "cell_type": "code",
   "execution_count": 13,
   "metadata": {},
   "outputs": [
    {
     "data": {
      "text/plain": [
       "30.966297712522973"
      ]
     },
     "execution_count": 13,
     "metadata": {},
     "output_type": "execute_result"
    }
   ],
   "source": [
    "mean_squared_error(Y_true,Y_predict)"
   ]
  },
  {
   "cell_type": "code",
   "execution_count": 19,
   "metadata": {},
   "outputs": [
    {
     "name": "stdout",
     "output_type": "stream",
     "text": [
      "Maximum value is: 307.43839561168073\n"
     ]
    }
   ],
   "source": [
    "print(\"Maximum value of true data is:\",max(Y_train))"
   ]
  },
  {
   "cell_type": "code",
   "execution_count": 20,
   "metadata": {},
   "outputs": [
    {
     "name": "stdout",
     "output_type": "stream",
     "text": [
      "Minimum value is: 13.875960872099629\n"
     ]
    }
   ],
   "source": [
    "print(\"Minimum value of true data is:\",min(Y_train))"
   ]
  },
  {
   "cell_type": "code",
   "execution_count": 21,
   "metadata": {},
   "outputs": [
    {
     "name": "stdout",
     "output_type": "stream",
     "text": [
      "Maximum value of predicted data is: [310.5953182]\n"
     ]
    }
   ],
   "source": [
    "print(\"Maximum value of predicted data is:\",max(Y_predict))"
   ]
  },
  {
   "cell_type": "code",
   "execution_count": 22,
   "metadata": {},
   "outputs": [
    {
     "name": "stdout",
     "output_type": "stream",
     "text": [
      "Minimum value of predicted data is: [13.9635184]\n"
     ]
    }
   ],
   "source": [
    "print(\"Minimum value of predicted data is:\",min(Y_predict))"
   ]
  },
  {
   "cell_type": "code",
   "execution_count": 23,
   "metadata": {},
   "outputs": [],
   "source": [
    "from sklearn.metrics import r2_score"
   ]
  },
  {
   "cell_type": "code",
   "execution_count": 25,
   "metadata": {},
   "outputs": [
    {
     "data": {
      "text/plain": [
       "0.9958775548841864"
      ]
     },
     "execution_count": 25,
     "metadata": {},
     "output_type": "execute_result"
    }
   ],
   "source": [
    "r2_score(Y_true, Y_predict)"
   ]
  },
  {
   "cell_type": "code",
   "execution_count": null,
   "metadata": {},
   "outputs": [],
   "source": []
  }
 ],
 "metadata": {
  "colab": {
   "name": "Classifier_SyntheticDataset.ipynb",
   "provenance": []
  },
  "kernelspec": {
   "display_name": "Python 3 (ipykernel)",
   "language": "python",
   "name": "python3"
  },
  "language_info": {
   "codemirror_mode": {
    "name": "ipython",
    "version": 3
   },
   "file_extension": ".py",
   "mimetype": "text/x-python",
   "name": "python",
   "nbconvert_exporter": "python",
   "pygments_lexer": "ipython3",
   "version": "3.8.10"
  }
 },
 "nbformat": 4,
 "nbformat_minor": 1
}

{
  "cells": [
    {
      "cell_type": "markdown",
      "metadata": {
        "id": "q1yzlTC-guFM"
      },
      "source": [
        "# Training and Testing Classifier on Synthetic Dataset"
      ]
    },
    {
      "cell_type": "markdown",
      "metadata": {
        "id": "nmGfyXEnguFS"
      },
      "source": [
        "## Different optimizers considers:\n",
        "1. Sklearn's default optimizer\n",
        "2. My coded optimizer directly solving the equation\n",
        "3. Using Bayesian-based optimizer\n",
        "4. Gradient Descent"
      ]
    },
    {
      "cell_type": "code",
      "execution_count": 1,
      "metadata": {
        "id": "-h38TPUTguFV"
      },
      "outputs": [],
      "source": [
        "# Linear Regression Class\n",
        "\n",
        "# Useful import\n",
        "import numpy as np\n",
        "from numpy.linalg import inv\n",
        "from sklearn.linear_model import LinearRegression as LRS\n"
      ]
    },
    {
      "cell_type": "code",
      "source": [
        "#1. fit and predict using: my coded optizer to solve the equations\n",
        "#2. fit2 and predict2 using sklearn library\n",
        "\n",
        "\n",
        "class LinearRegression:\n",
        "\n",
        "    X = None\n",
        "    Y = None\n",
        "    thetha = None\n",
        "    reg = None\n",
        "\n",
        "    def setData(self, X_input, Y_input):\n",
        "      X_new = []\n",
        "\n",
        "      for x in X_input:\n",
        "        X_new.append([1, x])\n",
        "      \n",
        "      X_new = np.array(X_new)\n",
        "\n",
        "      Y_new = np.array(Y_input)\n",
        "      Y_new  = Y_new.reshape(Y_new.shape[0], 1)\n",
        "\n",
        "      self.X = X_new \n",
        "      self.Y = Y_new\n",
        "\n",
        "    def fit(self, X, Y):\n",
        "      #print('fit called')\n",
        "      #print(self.X, self.Y)\n",
        "\n",
        "      self.setData(X, Y)\n",
        "\n",
        "      # Solving the LR equation\n",
        "      Xt = self.X.transpose()\n",
        "      XtX = np.matmul(Xt, self.X)\n",
        "      \n",
        "      IXtX = inv(XtX)\n",
        "      \n",
        "      XtY = np.matmul(Xt, self.Y)\n",
        "\n",
        "      thetha = np.matmul(IXtX, XtY)\n",
        "\n",
        "      #print(thetha)\n",
        "      self.thetha = thetha\n",
        "\n",
        "    def predict(self, X_test):\n",
        "      #print('predict called')\n",
        "\n",
        "      X_new = []\n",
        "\n",
        "      for x in X_test:\n",
        "        X_new.append([1, x])\n",
        "      \n",
        "      X_new = np.array(X_new)\n",
        "      \n",
        "      X_new = X_new.transpose()\n",
        "\n",
        "      predict_Y = np.matmul(self.thetha.transpose(), X_new)\n",
        "      #print(predict_Y.shape)\n",
        "      predict_Y = predict_Y.reshape(predict_Y.shape[1], 1)\n",
        "      return predict_Y\n",
        "\n",
        "\n",
        "    def fit2(self, X, Y):\n",
        "      X_train_sk = np.array(X)\n",
        "      X_train_sk = X_train_sk.reshape(X_train_sk.shape[0], 1)\n",
        "      reg = LRS().fit(X_train_sk, Y)\n",
        "\n",
        "      self.reg = reg\n",
        "    \n",
        "    def predict2(self, X_test):\n",
        "      X_train_sk = np.array(X_test)\n",
        "      X_train_sk = X_train_sk.reshape(X_train_sk.shape[0], 1)\n",
        "\n",
        "      Y_predict = self.reg.predict(X_train_sk)\n",
        "\n",
        "      return Y_predict"
      ],
      "metadata": {
        "id": "RTtIGB0Kg-jo"
      },
      "execution_count": 11,
      "outputs": []
    },
    {
      "cell_type": "markdown",
      "source": [
        "# Generate a synthetic dataset"
      ],
      "metadata": {
        "id": "crOZqZd2iM2i"
      }
    },
    {
      "cell_type": "code",
      "source": [
        "import random \n",
        "\n",
        "#making some fake data\n",
        "num_points = 100\n",
        "\n",
        "random_range = 20\n",
        "intercept = 4\n",
        "slope = 3\n",
        "\n",
        "intercept_expected = intercept+ random_range/2.0 \n",
        "\n",
        "\n",
        "def createData(num_points):\n",
        "  X = []\n",
        "  Y = []\n",
        "\n",
        "  for i in range(num_points):\n",
        "    X.append(i)\n",
        "    y = slope*i + intercept + random.random()*random_range\n",
        "    Y.append(y)\n",
        "  \n",
        "  return X, Y"
      ],
      "metadata": {
        "id": "pdgAvSkCiRzu"
      },
      "execution_count": 12,
      "outputs": []
    },
    {
      "cell_type": "code",
      "source": [
        "# create training data \n",
        "\n",
        "X_train, Y_train =  createData(num_points)"
      ],
      "metadata": {
        "id": "d1CJR9onipRC"
      },
      "execution_count": 13,
      "outputs": []
    },
    {
      "cell_type": "code",
      "source": [
        "# create test data\n",
        "\n",
        "X_test, Y_test =  createData(num_points)"
      ],
      "metadata": {
        "id": "amSx-AKEirrS"
      },
      "execution_count": 14,
      "outputs": []
    },
    {
      "cell_type": "code",
      "source": [
        "# visualize the train and test data\n",
        "\n",
        "from matplotlib import pyplot as plt\n",
        "plt.scatter(X_train,Y_train, label = 'Train Data')\n",
        "plt.scatter(X_test, Y_test, label = 'Test Data')\n",
        "plt.legend(fontsize = 20)\n",
        "plt.xlabel('X', fontsize = 20)\n",
        "plt.ylabel('Y', fontsize = 20)\n",
        "plt.show()\n"
      ],
      "metadata": {
        "id": "YERfKS3oizpF",
        "outputId": "796ce47e-127e-4b49-b1a1-dcabd3de3e11",
        "colab": {
          "base_uri": "https://localhost:8080/",
          "height": 288
        }
      },
      "execution_count": 15,
      "outputs": [
        {
          "output_type": "display_data",
          "data": {
            "image/png": "[encoded data removed]",
            "text/plain": [
              "<Figure size 432x288 with 1 Axes>"
            ]
          },
          "metadata": {
            "needs_background": "light"
          }
        }
      ]
    },
    {
      "cell_type": "markdown",
      "source": [
        "#A: Using my coded Optimizer"
      ],
      "metadata": {
        "id": "IRKnYP7ZjVAR"
      }
    },
    {
      "cell_type": "code",
      "source": [
        "# Let us play with the Linear Regression Optimizers\n",
        "\n",
        "LR = LinearRegression()\n",
        "LR.fit(X_train, Y_train)"
      ],
      "metadata": {
        "id": "fu3JUqwtjEjZ"
      },
      "execution_count": 16,
      "outputs": []
    },
    {
      "cell_type": "code",
      "source": [
        "Y_predict = LR.predict(X_test)"
      ],
      "metadata": {
        "id": "7E3g0imOjsJQ"
      },
      "execution_count": 17,
      "outputs": []
    },
    {
      "cell_type": "code",
      "source": [
        "# See the predict\n",
        "\n",
        "from matplotlib import pyplot as plt\n",
        "plt.scatter(X_test,Y_test, label = 'Ground Truth')\n",
        "plt.scatter(X_test, Y_predict, label = 'Classifier Prediction')\n",
        "plt.legend(fontsize = 20)\n",
        "plt.xlabel('X', fontsize = 20)\n",
        "plt.ylabel('Y', fontsize = 20)\n",
        "plt.show()\n"
      ],
      "metadata": {
        "id": "cdeGp7UqjwAz",
        "outputId": "7ce88974-36fd-4cef-a23c-7cbfcee3edad",
        "colab": {
          "base_uri": "https://localhost:8080/",
          "height": 288
        }
      },
      "execution_count": 18,
      "outputs": [
        {
          "output_type": "display_data",
          "data": {
            "image/png": "[encoded data removed]",
            "text/plain": [
              "<Figure size 432x288 with 1 Axes>"
            ]
          },
          "metadata": {
            "needs_background": "light"
          }
        }
      ]
    },
    {
      "cell_type": "markdown",
      "source": [
        "#B: Using Sklearn Optimizer"
      ],
      "metadata": {
        "id": "ZGV8X-cJkGDB"
      }
    },
    {
      "cell_type": "code",
      "source": [
        ""
      ],
      "metadata": {
        "id": "RrQN47pmkKJj"
      },
      "execution_count": null,
      "outputs": []
    }
  ],
  "metadata": {
    "kernelspec": {
      "display_name": "Python 3",
      "language": "python",
      "name": "python3"
    },
    "language_info": {
      "codemirror_mode": {
        "name": "ipython",
        "version": 3
      },
      "file_extension": ".py",
      "mimetype": "text/x-python",
      "name": "python",
      "nbconvert_exporter": "python",
      "pygments_lexer": "ipython3",
      "version": "3.6.12"
    },
    "colab": {
      "name": "Classifier_SyntheticDataset.ipynb",
      "provenance": []
    }
  },
  "nbformat": 4,
  "nbformat_minor": 0
}
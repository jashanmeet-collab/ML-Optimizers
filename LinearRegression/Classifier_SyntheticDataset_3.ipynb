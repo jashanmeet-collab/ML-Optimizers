{
  "nbformat": 4,
  "nbformat_minor": 0,
  "metadata": {
    "colab": {
      "name": "Classifier_SyntheticDataset_3.ipynb",
      "provenance": [],
      "authorship_tag": "ABX9TyNZ3pK9Nu0zXSUVvUK6RwD+",
      "include_colab_link": true
    },
    "kernelspec": {
      "name": "python3",
      "display_name": "Python 3"
    },
    "language_info": {
      "name": "python"
    }
  },
  "cells": [
    {
      "cell_type": "markdown",
      "metadata": {
        "id": "view-in-github",
        "colab_type": "text"
      },
      "source": [
        "<a href=\"https://colab.research.google.com/github/jashanmeet-collab/ML-Optimizers/blob/main/LinearRegression/Classifier_SyntheticDataset_3.ipynb\" target=\"_parent\"><img src=\"https://colab.research.google.com/assets/colab-badge.svg\" alt=\"Open In Colab\"/></a>"
      ]
    },
    {
      "cell_type": "markdown",
      "source": [
        "# Looking at loss function"
      ],
      "metadata": {
        "id": "HNPIq48cYyXa"
      }
    },
    {
      "cell_type": "code",
      "source": [
        "import random\n",
        "\n",
        "noise = 15\n",
        "\n",
        "def create_data1(num_data_points):\n",
        "  X = []\n",
        "  Y = []\n",
        "  for i in range(num_data_points):\n",
        "    X.append(i)\n",
        "    \n",
        "    y = 4*i + 10 + random.random()*noise\n",
        "    Y.append(y)\n",
        "  \n",
        "  #print('This is print call to X is:', X)\n",
        "  return X, Y"
      ],
      "metadata": {
        "id": "Jb1kIWyJY0-i"
      },
      "execution_count": 18,
      "outputs": []
    },
    {
      "cell_type": "code",
      "source": [
        "X_data, Y_data = create_data1(10)"
      ],
      "metadata": {
        "id": "j9oWsl6OZlJU"
      },
      "execution_count": 19,
      "outputs": []
    },
    {
      "cell_type": "code",
      "source": [
        "from matplotlib import pyplot as plt \n",
        "plt.plot(X_data, Y_data)\n",
        "plt.show()"
      ],
      "metadata": {
        "id": "YGxL7vQOaLvA",
        "outputId": "4c2036df-d6b6-41fe-b01e-c67df0675774",
        "colab": {
          "base_uri": "https://localhost:8080/",
          "height": 265
        }
      },
      "execution_count": 20,
      "outputs": [
        {
          "output_type": "display_data",
          "data": {
            "image/png": "[encoded data removed]",
            "text/plain": [
              "<Figure size 432x288 with 1 Axes>"
            ]
          },
          "metadata": {
            "needs_background": "light"
          }
        }
      ]
    },
    {
      "cell_type": "code",
      "source": [
        "def loss_function(X, Y, thetha0, thetha1):\n",
        "  loss = 0\n",
        "\n",
        "  for i in range(len(X)):\n",
        "    x = X[i]\n",
        "    y = Y[i]\n",
        "\n",
        "    h = thetha0 + thetha1*x \n",
        "\n",
        "    l = (h - y)**2\n",
        "\n",
        "    loss = loss + l\n",
        "  \n",
        "  return loss \n",
        "    "
      ],
      "metadata": {
        "id": "__Aoa9XfaWwG"
      },
      "execution_count": 21,
      "outputs": []
    },
    {
      "cell_type": "code",
      "source": [
        "thetha0  = 0\n",
        "thetha1 = 2\n",
        "\n",
        "loss = loss_function(X_data, Y_data, thetha0, thetha1)\n",
        "print(loss)\n"
      ],
      "metadata": {
        "id": "Gq0gc277bUck",
        "outputId": "ea0480d9-60e1-4108-8bdd-a15f35a1d321",
        "colab": {
          "base_uri": "https://localhost:8080/"
        }
      },
      "execution_count": 22,
      "outputs": [
        {
          "output_type": "stream",
          "name": "stdout",
          "text": [
            "7999.90638636613\n"
          ]
        }
      ]
    },
    {
      "cell_type": "code",
      "source": [
        "# Let us play over the range of hypothesis/thethas \n",
        "\n",
        "thetha0 = 10\n",
        "thetha1 = [0.1*i for i in range(150)]"
      ],
      "metadata": {
        "id": "WD1V0v2MbeDJ"
      },
      "execution_count": 23,
      "outputs": []
    },
    {
      "cell_type": "code",
      "source": [
        "loss = []\n",
        "for t1 in thetha1:\n",
        "  l = loss_function(X_data, Y_data, thetha0, t1)\n",
        "  loss.append(l)"
      ],
      "metadata": {
        "id": "fh2Q3gzAbsVa"
      },
      "execution_count": 24,
      "outputs": []
    },
    {
      "cell_type": "code",
      "source": [
        "plt.plot(thetha1, loss)\n",
        "plt.show()"
      ],
      "metadata": {
        "id": "MFvnRaCubuzW",
        "outputId": "61c087e2-9bcc-4f2b-e82a-4a28a2d1ef4e",
        "colab": {
          "base_uri": "https://localhost:8080/",
          "height": 265
        }
      },
      "execution_count": 25,
      "outputs": [
        {
          "output_type": "display_data",
          "data": {
            "image/png": "[encoded data removed]",
            "text/plain": [
              "<Figure size 432x288 with 1 Axes>"
            ]
          },
          "metadata": {
            "needs_background": "light"
          }
        }
      ]
    },
    {
      "cell_type": "code",
      "source": [
        "min_loss = min(loss)\n",
        "\n",
        "min_index = loss. index(min_loss) \n",
        "\n",
        "optimal_thetha1 = thetha1[min_index]\n",
        "\n",
        "print('optimal_thetha1',optimal_thetha1)"
      ],
      "metadata": {
        "id": "etNN_X-BcPvT",
        "outputId": "4bb8a1d5-ac90-40fa-c15f-a8be15dd2b8c",
        "colab": {
          "base_uri": "https://localhost:8080/"
        }
      },
      "execution_count": 26,
      "outputs": [
        {
          "output_type": "stream",
          "name": "stdout",
          "text": [
            "optimal_thetha1 5.300000000000001\n"
          ]
        }
      ]
    },
    {
      "cell_type": "code",
      "source": [
        "def loss_function(X, thetha0, thetha1):\n",
        "  predict = []\n",
        "  for i in range(len(X)):\n",
        "    x = X[i]\n",
        "\n",
        "    h = thetha0 + thetha1*x \n",
        "\n",
        "    predict.append(h)\n",
        "\n",
        "  return predict "
      ],
      "metadata": {
        "id": "qpWkAqEMc8zJ"
      },
      "execution_count": 27,
      "outputs": []
    },
    {
      "cell_type": "code",
      "source": [
        "y_predict = loss_function(X_data, thetha0, optimal_thetha1)"
      ],
      "metadata": {
        "id": "LUR3845SdzRw"
      },
      "execution_count": 28,
      "outputs": []
    },
    {
      "cell_type": "code",
      "source": [
        "from matplotlib import pyplot as plt \n",
        "plt.plot(X_data, Y_data, label = 'Training data')\n",
        "plt.plot(X_data, y_predict, label = 'prediction on training data')\n",
        "plt.legend()\n",
        "plt.show()"
      ],
      "metadata": {
        "id": "FNr2qMPHd54O",
        "outputId": "f8558895-6993-457c-ef4c-93e50699a42a",
        "colab": {
          "base_uri": "https://localhost:8080/",
          "height": 265
        }
      },
      "execution_count": 29,
      "outputs": [
        {
          "output_type": "display_data",
          "data": {
            "image/png": "[encoded data removed]",
            "text/plain": [
              "<Figure size 432x288 with 1 Axes>"
            ]
          },
          "metadata": {
            "needs_background": "light"
          }
        }
      ]
    },
    {
      "cell_type": "code",
      "source": [
        ""
      ],
      "metadata": {
        "id": "TaHXLH3peB4p"
      },
      "execution_count": null,
      "outputs": []
    }
  ]
}
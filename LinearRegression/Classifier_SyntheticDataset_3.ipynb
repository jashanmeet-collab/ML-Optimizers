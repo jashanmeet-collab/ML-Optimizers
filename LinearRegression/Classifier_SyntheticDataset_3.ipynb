{
  "nbformat": 4,
  "nbformat_minor": 0,
  "metadata": {
    "colab": {
      "name": "Classifier_SyntheticDataset_3.ipynb",
      "provenance": [],
      "authorship_tag": "ABX9TyOOndPLalnzMKVcu2+CbxpN",
      "include_colab_link": true
    },
    "kernelspec": {
      "name": "python3",
      "display_name": "Python 3"
    },
    "language_info": {
      "name": "python"
    }
  },
  "cells": [
    {
      "cell_type": "markdown",
      "metadata": {
        "id": "view-in-github",
        "colab_type": "text"
      },
      "source": [
        "<a href=\"https://colab.research.google.com/github/jashanmeet-collab/ML-Optimizers/blob/main/LinearRegression/Classifier_SyntheticDataset_3.ipynb\" target=\"_parent\"><img src=\"https://colab.research.google.com/assets/colab-badge.svg\" alt=\"Open In Colab\"/></a>"
      ]
    },
    {
      "cell_type": "markdown",
      "source": [
        "# Looking at loss function"
      ],
      "metadata": {
        "id": "HNPIq48cYyXa"
      }
    },
    {
      "cell_type": "code",
      "source": [
        ""
      ],
      "metadata": {
        "id": "Jb1kIWyJY0-i"
      },
      "execution_count": null,
      "outputs": []
    }
  ]
}
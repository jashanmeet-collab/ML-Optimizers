{
 "cells": [
  {
   "cell_type": "markdown",
   "id": "62cc5244",
   "metadata": {},
   "source": [
    "# Play with mysql data"
   ]
  },
  {
   "cell_type": "markdown",
   "id": "04cefba6",
   "metadata": {},
   "source": [
    "## 1. Create connection to the local mysql server\n",
    "## 2. Create a database\n",
    "## 3. Create a table within database\n",
    "## 4. Insert/query data into/from table "
   ]
  },
  {
   "cell_type": "markdown",
   "id": "24ab3798",
   "metadata": {},
   "source": [
    "# using library: MySQLdb\n",
    "- pip3 install mysqlclient"
   ]
  },
  {
   "cell_type": "code",
   "execution_count": 1,
   "id": "045f52dd",
   "metadata": {},
   "outputs": [],
   "source": [
    "import MySQLdb \n",
    "myuser = 'root'\n",
    "mypassword = 'root'"
   ]
  },
  {
   "cell_type": "markdown",
   "id": "a5dc65ac",
   "metadata": {},
   "source": [
    "# Create connection"
   ]
  },
  {
   "cell_type": "code",
   "execution_count": 3,
   "id": "299e8c25",
   "metadata": {},
   "outputs": [],
   "source": [
    "db_connection= MySQLdb.connect(\"localhost\",myuser,mypassword)"
   ]
  },
  {
   "cell_type": "markdown",
   "id": "fb8c2845",
   "metadata": {},
   "source": [
    "# Create a database"
   ]
  },
  {
   "cell_type": "code",
   "execution_count": 5,
   "id": "c5f8d8a9",
   "metadata": {},
   "outputs": [],
   "source": [
    "cursor = db_connection.cursor()\n",
    "\n",
    "# execute SQL query using execute() method.\n",
    "cursor.execute(\"Create database test\")\n"
   ]
  },
  {
   "cell_type": "markdown",
   "id": "06434081",
   "metadata": {},
   "source": [
    "# create a sample table"
   ]
  },
  {
   "cell_type": "code",
   "execution_count": 6,
   "id": "8ec54915",
   "metadata": {},
   "outputs": [
    {
     "data": {
      "text/plain": [
       "0"
      ]
     },
     "execution_count": 6,
     "metadata": {},
     "output_type": "execute_result"
    }
   ],
   "source": [
    "cursor.execute(\"use test\")"
   ]
  },
  {
   "cell_type": "code",
   "execution_count": 8,
   "id": "47bfd208",
   "metadata": {},
   "outputs": [],
   "source": [
    "query = \"CREATE TABLE customers (name VARCHAR(255), address VARCHAR(255))\"\n",
    "cursor.execute(query)"
   ]
  },
  {
   "cell_type": "code",
   "execution_count": 10,
   "id": "90e3caf9",
   "metadata": {},
   "outputs": [
    {
     "data": {
      "text/plain": [
       "0"
      ]
     },
     "execution_count": 10,
     "metadata": {},
     "output_type": "execute_result"
    }
   ],
   "source": [
    "query = \"CREATE TABLE customers2 (name VARCHAR(255), address VARCHAR(255))\"\n",
    "cursor.execute(query)"
   ]
  },
  {
   "cell_type": "markdown",
   "id": "ff335d7b",
   "metadata": {},
   "source": [
    "# See the tables in test database"
   ]
  },
  {
   "cell_type": "code",
   "execution_count": 11,
   "id": "b23bcda2",
   "metadata": {},
   "outputs": [
    {
     "name": "stdout",
     "output_type": "stream",
     "text": [
      "('customers',)\n",
      "('customers2',)\n"
     ]
    }
   ],
   "source": [
    "cursor.execute(\"SHOW TABLES\")\n",
    "\n",
    "for x in cursor:\n",
    "  print(x) "
   ]
  },
  {
   "cell_type": "markdown",
   "id": "666335e2",
   "metadata": {},
   "source": [
    "# Insert some sample data into customers table"
   ]
  },
  {
   "cell_type": "code",
   "execution_count": 41,
   "id": "5ca374f5",
   "metadata": {},
   "outputs": [],
   "source": [
    "# INSERT INTO table_name (column1, column2, column3, ...) VALUES (value1, value2, value3, ...); \n",
    "\n",
    "name = \"jashan-3\"\n",
    "address = \"ucr\"\n",
    "query = \"INSERT into customers (name, address) Values ('\"+str(name) +\"','\" + str(address) +\"');\""
   ]
  },
  {
   "cell_type": "code",
   "execution_count": 42,
   "id": "8c31001e",
   "metadata": {},
   "outputs": [
    {
     "name": "stdout",
     "output_type": "stream",
     "text": [
      "INSERT into customers (name, address) Values ('jashan-3','ucr');\n"
     ]
    }
   ],
   "source": [
    "#see the sql\n",
    "print(query)"
   ]
  },
  {
   "cell_type": "code",
   "execution_count": 43,
   "id": "f6f9c80d",
   "metadata": {},
   "outputs": [
    {
     "data": {
      "text/plain": [
       "1"
      ]
     },
     "execution_count": 43,
     "metadata": {},
     "output_type": "execute_result"
    }
   ],
   "source": [
    "cursor.execute(query)"
   ]
  },
  {
   "cell_type": "markdown",
   "id": "0be87e51",
   "metadata": {},
   "source": [
    "# See the data"
   ]
  },
  {
   "cell_type": "code",
   "execution_count": 48,
   "id": "d5fb6815",
   "metadata": {},
   "outputs": [],
   "source": [
    "cursor.execute(\"select * from customers\")\n",
    "myresult = cursor.fetchall()"
   ]
  },
  {
   "cell_type": "code",
   "execution_count": 49,
   "id": "880b2802",
   "metadata": {},
   "outputs": [],
   "source": [
    "for row in myresult:\n",
    "    print(row)"
   ]
  },
  {
   "cell_type": "code",
   "execution_count": 56,
   "id": "a14777d3",
   "metadata": {},
   "outputs": [
    {
     "data": {
      "text/plain": [
       "1100"
      ]
     },
     "execution_count": 56,
     "metadata": {},
     "output_type": "execute_result"
    }
   ],
   "source": [
    "# delete the data\n",
    "query = \"delete from customers\"\n",
    "cursor.execute(query)"
   ]
  },
  {
   "cell_type": "markdown",
   "id": "aa399b30",
   "metadata": {},
   "source": [
    "# Insert data with loop"
   ]
  },
  {
   "cell_type": "code",
   "execution_count": 57,
   "id": "de426410",
   "metadata": {},
   "outputs": [],
   "source": [
    "for i in range(100):\n",
    "    name = \"jashan-\"+str(i)\n",
    "    address = \"ucr\"+str(i)\n",
    "    query = \"INSERT into customers (name, address) Values ('\"+str(name) +\"','\" + str(address) +\"');\"\n",
    "    \n",
    "    #print(query)\n",
    "    \n",
    "    cursor.execute(query)"
   ]
  },
  {
   "cell_type": "code",
   "execution_count": 58,
   "id": "e5d4e4e5",
   "metadata": {
    "scrolled": false
   },
   "outputs": [
    {
     "name": "stdout",
     "output_type": "stream",
     "text": [
      "('jashan-0', 'ucr0')\n",
      "('jashan-1', 'ucr1')\n",
      "('jashan-2', 'ucr2')\n",
      "('jashan-3', 'ucr3')\n",
      "('jashan-4', 'ucr4')\n",
      "('jashan-5', 'ucr5')\n",
      "('jashan-6', 'ucr6')\n",
      "('jashan-7', 'ucr7')\n",
      "('jashan-8', 'ucr8')\n",
      "('jashan-9', 'ucr9')\n",
      "('jashan-10', 'ucr10')\n",
      "('jashan-11', 'ucr11')\n",
      "('jashan-12', 'ucr12')\n",
      "('jashan-13', 'ucr13')\n",
      "('jashan-14', 'ucr14')\n",
      "('jashan-15', 'ucr15')\n",
      "('jashan-16', 'ucr16')\n",
      "('jashan-17', 'ucr17')\n",
      "('jashan-18', 'ucr18')\n",
      "('jashan-19', 'ucr19')\n",
      "('jashan-20', 'ucr20')\n",
      "('jashan-21', 'ucr21')\n",
      "('jashan-22', 'ucr22')\n",
      "('jashan-23', 'ucr23')\n",
      "('jashan-24', 'ucr24')\n",
      "('jashan-25', 'ucr25')\n",
      "('jashan-26', 'ucr26')\n",
      "('jashan-27', 'ucr27')\n",
      "('jashan-28', 'ucr28')\n",
      "('jashan-29', 'ucr29')\n",
      "('jashan-30', 'ucr30')\n",
      "('jashan-31', 'ucr31')\n",
      "('jashan-32', 'ucr32')\n",
      "('jashan-33', 'ucr33')\n",
      "('jashan-34', 'ucr34')\n",
      "('jashan-35', 'ucr35')\n",
      "('jashan-36', 'ucr36')\n",
      "('jashan-37', 'ucr37')\n",
      "('jashan-38', 'ucr38')\n",
      "('jashan-39', 'ucr39')\n",
      "('jashan-40', 'ucr40')\n",
      "('jashan-41', 'ucr41')\n",
      "('jashan-42', 'ucr42')\n",
      "('jashan-43', 'ucr43')\n",
      "('jashan-44', 'ucr44')\n",
      "('jashan-45', 'ucr45')\n",
      "('jashan-46', 'ucr46')\n",
      "('jashan-47', 'ucr47')\n",
      "('jashan-48', 'ucr48')\n",
      "('jashan-49', 'ucr49')\n",
      "('jashan-50', 'ucr50')\n",
      "('jashan-51', 'ucr51')\n",
      "('jashan-52', 'ucr52')\n",
      "('jashan-53', 'ucr53')\n",
      "('jashan-54', 'ucr54')\n",
      "('jashan-55', 'ucr55')\n",
      "('jashan-56', 'ucr56')\n",
      "('jashan-57', 'ucr57')\n",
      "('jashan-58', 'ucr58')\n",
      "('jashan-59', 'ucr59')\n",
      "('jashan-60', 'ucr60')\n",
      "('jashan-61', 'ucr61')\n",
      "('jashan-62', 'ucr62')\n",
      "('jashan-63', 'ucr63')\n",
      "('jashan-64', 'ucr64')\n",
      "('jashan-65', 'ucr65')\n",
      "('jashan-66', 'ucr66')\n",
      "('jashan-67', 'ucr67')\n",
      "('jashan-68', 'ucr68')\n",
      "('jashan-69', 'ucr69')\n",
      "('jashan-70', 'ucr70')\n",
      "('jashan-71', 'ucr71')\n",
      "('jashan-72', 'ucr72')\n",
      "('jashan-73', 'ucr73')\n",
      "('jashan-74', 'ucr74')\n",
      "('jashan-75', 'ucr75')\n",
      "('jashan-76', 'ucr76')\n",
      "('jashan-77', 'ucr77')\n",
      "('jashan-78', 'ucr78')\n",
      "('jashan-79', 'ucr79')\n",
      "('jashan-80', 'ucr80')\n",
      "('jashan-81', 'ucr81')\n",
      "('jashan-82', 'ucr82')\n",
      "('jashan-83', 'ucr83')\n",
      "('jashan-84', 'ucr84')\n",
      "('jashan-85', 'ucr85')\n",
      "('jashan-86', 'ucr86')\n",
      "('jashan-87', 'ucr87')\n",
      "('jashan-88', 'ucr88')\n",
      "('jashan-89', 'ucr89')\n",
      "('jashan-90', 'ucr90')\n",
      "('jashan-91', 'ucr91')\n",
      "('jashan-92', 'ucr92')\n",
      "('jashan-93', 'ucr93')\n",
      "('jashan-94', 'ucr94')\n",
      "('jashan-95', 'ucr95')\n",
      "('jashan-96', 'ucr96')\n",
      "('jashan-97', 'ucr97')\n",
      "('jashan-98', 'ucr98')\n",
      "('jashan-99', 'ucr99')\n"
     ]
    }
   ],
   "source": [
    "cursor.execute(\"select * from customers\")\n",
    "myresult = cursor.fetchall()\n",
    "\n",
    "\n",
    "for row in myresult:\n",
    "    print(row)"
   ]
  },
  {
   "cell_type": "code",
   "execution_count": null,
   "id": "a907503e",
   "metadata": {},
   "outputs": [],
   "source": []
  }
 ],
 "metadata": {
  "kernelspec": {
   "display_name": "Python 3 (ipykernel)",
   "language": "python",
   "name": "python3"
  },
  "language_info": {
   "codemirror_mode": {
    "name": "ipython",
    "version": 3
   },
   "file_extension": ".py",
   "mimetype": "text/x-python",
   "name": "python",
   "nbconvert_exporter": "python",
   "pygments_lexer": "ipython3",
   "version": "3.8.10"
  }
 },
 "nbformat": 4,
 "nbformat_minor": 5
}

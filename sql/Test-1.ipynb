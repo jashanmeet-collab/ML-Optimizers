{
 "cells": [
  {
   "cell_type": "markdown",
   "id": "62cc5244",
   "metadata": {},
   "source": [
    "# Play with mysql data"
   ]
  },
  {
   "cell_type": "markdown",
   "id": "04cefba6",
   "metadata": {},
   "source": [
    "## 1. Create connection to the local mysql server\n",
    "## 2. Create a database\n",
    "## 3. Create a table within database\n",
    "## 4. Insert/query data into/from table "
   ]
  },
  {
   "cell_type": "markdown",
   "id": "24ab3798",
   "metadata": {},
   "source": [
    "# using library: MySQLdb\n",
    "- pip3 install mysqlclient"
   ]
  },
  {
   "cell_type": "code",
   "execution_count": 1,
   "id": "045f52dd",
   "metadata": {},
   "outputs": [],
   "source": [
    "import MySQLdb \n",
    "myuser = 'root'\n",
    "mypassword = 'root'"
   ]
  },
  {
   "cell_type": "markdown",
   "id": "a5dc65ac",
   "metadata": {},
   "source": [
    "# Create connection"
   ]
  },
  {
   "cell_type": "code",
   "execution_count": 2,
   "id": "299e8c25",
   "metadata": {},
   "outputs": [],
   "source": [
    "db_connection= MySQLdb.connect(\"localhost\",\"root\",\"root\")"
   ]
  },
  {
   "cell_type": "markdown",
   "id": "fb8c2845",
   "metadata": {},
   "source": [
    "# Create a database"
   ]
  },
  {
   "cell_type": "code",
   "execution_count": 3,
   "id": "c5f8d8a9",
   "metadata": {},
   "outputs": [
    {
     "data": {
      "text/plain": [
       "1"
      ]
     },
     "execution_count": 3,
     "metadata": {},
     "output_type": "execute_result"
    }
   ],
   "source": [
    "cursor = db_connection.cursor()\n",
    "\n",
    "# execute SQL query using execute() method.\n",
    "cursor.execute(\"Create database test\")\n"
   ]
  },
  {
   "cell_type": "markdown",
   "id": "06434081",
   "metadata": {},
   "source": [
    "# create a sample table"
   ]
  },
  {
   "cell_type": "code",
   "execution_count": 6,
   "id": "8ec54915",
   "metadata": {},
   "outputs": [
    {
     "data": {
      "text/plain": [
       "0"
      ]
     },
     "execution_count": 6,
     "metadata": {},
     "output_type": "execute_result"
    }
   ],
   "source": [
    "cursor.execute(\"use test\")\n"
   ]
  },
  {
   "cell_type": "code",
   "execution_count": 7,
   "id": "47bfd208",
   "metadata": {},
   "outputs": [
    {
     "data": {
      "text/plain": [
       "0"
      ]
     },
     "execution_count": 7,
     "metadata": {},
     "output_type": "execute_result"
    }
   ],
   "source": [
    "cursor.execute(\"CREATE TABLE customers (name VARCHAR(255), address VARCHAR(255))\")"
   ]
  },
  {
   "cell_type": "markdown",
   "id": "ff335d7b",
   "metadata": {},
   "source": [
    "# See the tables in test database"
   ]
  },
  {
   "cell_type": "code",
   "execution_count": 9,
   "id": "b23bcda2",
   "metadata": {},
   "outputs": [
    {
     "name": "stdout",
     "output_type": "stream",
     "text": [
      "('customers',)\n"
     ]
    }
   ],
   "source": [
    "cursor.execute(\"SHOW TABLES\")\n",
    "\n",
    "for x in cursor:\n",
    "  print(x) "
   ]
  },
  {
   "cell_type": "markdown",
   "id": "666335e2",
   "metadata": {},
   "source": [
    "# Insert some sample data into customers table"
   ]
  },
  {
   "cell_type": "code",
   "execution_count": 18,
   "id": "5ca374f5",
   "metadata": {},
   "outputs": [],
   "source": [
    "# INSERT INTO table_name (column1, column2, column3, ...)\n",
    "# VALUES (value1, value2, value3, ...); \n",
    "\n",
    "name = \"jashan\"\n",
    "address = \"ucr\"\n",
    "insert_values = \"INSERT into customers (name, address) Values ('\"+str(name) +\"','\" + str(address) +\"')\""
   ]
  },
  {
   "cell_type": "code",
   "execution_count": 19,
   "id": "8c31001e",
   "metadata": {},
   "outputs": [
    {
     "data": {
      "text/plain": [
       "\"INSERT into customers (name, address) Values ('jashan','ucr')\""
      ]
     },
     "execution_count": 19,
     "metadata": {},
     "output_type": "execute_result"
    }
   ],
   "source": [
    "#see the sql\n",
    "insert_values"
   ]
  },
  {
   "cell_type": "code",
   "execution_count": 20,
   "id": "f6f9c80d",
   "metadata": {},
   "outputs": [
    {
     "data": {
      "text/plain": [
       "1"
      ]
     },
     "execution_count": 20,
     "metadata": {},
     "output_type": "execute_result"
    }
   ],
   "source": [
    "cursor.execute(insert_values)"
   ]
  },
  {
   "cell_type": "markdown",
   "id": "0be87e51",
   "metadata": {},
   "source": [
    "# See the data"
   ]
  },
  {
   "cell_type": "code",
   "execution_count": 27,
   "id": "d5fb6815",
   "metadata": {},
   "outputs": [],
   "source": [
    "cursor.execute(\"select * from customers\")\n",
    "myresult = cursor.fetchall()"
   ]
  },
  {
   "cell_type": "code",
   "execution_count": 28,
   "id": "880b2802",
   "metadata": {},
   "outputs": [
    {
     "name": "stdout",
     "output_type": "stream",
     "text": [
      "('jashan', 'ucr')\n"
     ]
    }
   ],
   "source": [
    "for row in myresult:\n",
    "    print(row)"
   ]
  },
  {
   "cell_type": "code",
   "execution_count": null,
   "id": "0d949cc3",
   "metadata": {},
   "outputs": [],
   "source": []
  }
 ],
 "metadata": {
  "kernelspec": {
   "display_name": "Python 3 (ipykernel)",
   "language": "python",
   "name": "python3"
  },
  "language_info": {
   "codemirror_mode": {
    "name": "ipython",
    "version": 3
   },
   "file_extension": ".py",
   "mimetype": "text/x-python",
   "name": "python",
   "nbconvert_exporter": "python",
   "pygments_lexer": "ipython3",
   "version": "3.8.10"
  }
 },
 "nbformat": 4,
 "nbformat_minor": 5
}

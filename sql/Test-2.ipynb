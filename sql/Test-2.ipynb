{
 "cells": [
  {
   "cell_type": "markdown",
   "id": "62cc5244",
   "metadata": {},
   "source": [
    "# Play with mysql data"
   ]
  },
  {
   "cell_type": "markdown",
   "id": "04cefba6",
   "metadata": {},
   "source": [
    "## 1. Create connection to the local mysql server\n",
    "## 2. Create a database\n",
    "## 3. Create a table within database\n",
    "## 4. Insert/query data into/from table "
   ]
  },
  {
   "cell_type": "markdown",
   "id": "24ab3798",
   "metadata": {},
   "source": [
    "# using library: MySQLdb\n",
    "- pip3 install mysqlclient"
   ]
  },
  {
   "cell_type": "code",
   "execution_count": 1,
   "id": "045f52dd",
   "metadata": {},
   "outputs": [],
   "source": [
    "import MySQLdb \n",
    "myuser = 'root'\n",
    "mypassword = 'root'"
   ]
  },
  {
   "cell_type": "markdown",
   "id": "a5dc65ac",
   "metadata": {},
   "source": [
    "# Create connection"
   ]
  },
  {
   "cell_type": "code",
   "execution_count": 6,
   "id": "299e8c25",
   "metadata": {},
   "outputs": [],
   "source": [
    "db_connection= MySQLdb.connect(\"localhost\",myuser,mypassword)"
   ]
  },
  {
   "cell_type": "markdown",
   "id": "fb8c2845",
   "metadata": {},
   "source": [
    "# Create a database  cusor"
   ]
  },
  {
   "cell_type": "code",
   "execution_count": 5,
   "id": "c5f8d8a9",
   "metadata": {},
   "outputs": [],
   "source": [
    "cursor = db_connection.cursor()\n",
    "\n",
    "# execute SQL query using execute() method.\n",
    "#cursor.execute(\"Create database test\")"
   ]
  },
  {
   "cell_type": "code",
   "execution_count": 10,
   "id": "6be308c0",
   "metadata": {},
   "outputs": [
    {
     "name": "stdout",
     "output_type": "stream",
     "text": [
      "('information_schema',)\n",
      "('mysql',)\n",
      "('performance_schema',)\n",
      "('sys',)\n",
      "('test',)\n"
     ]
    }
   ],
   "source": [
    "cursor.execute(\"show databases\")\n",
    "\n",
    "myres = cursor.fetchall()\n",
    "\n",
    "for res in myres:\n",
    "    print(res)"
   ]
  },
  {
   "cell_type": "markdown",
   "id": "06434081",
   "metadata": {},
   "source": [
    "# create a sample table"
   ]
  },
  {
   "cell_type": "code",
   "execution_count": 11,
   "id": "8ec54915",
   "metadata": {},
   "outputs": [
    {
     "data": {
      "text/plain": [
       "0"
      ]
     },
     "execution_count": 11,
     "metadata": {},
     "output_type": "execute_result"
    }
   ],
   "source": [
    "cursor.execute(\"use test\")"
   ]
  },
  {
   "cell_type": "code",
   "execution_count": 5,
   "id": "36dcdca3",
   "metadata": {},
   "outputs": [
    {
     "data": {
      "text/plain": [
       "0"
      ]
     },
     "execution_count": 5,
     "metadata": {},
     "output_type": "execute_result"
    }
   ],
   "source": [
    "query = \"CREATE TABLE synthetic (X INT, Y FLOAT)\"\n",
    "cursor.execute(query)"
   ]
  },
  {
   "cell_type": "markdown",
   "id": "ff335d7b",
   "metadata": {},
   "source": [
    "# See the tables in test database"
   ]
  },
  {
   "cell_type": "code",
   "execution_count": 12,
   "id": "b23bcda2",
   "metadata": {},
   "outputs": [
    {
     "name": "stdout",
     "output_type": "stream",
     "text": [
      "('customers',)\n",
      "('customers2',)\n",
      "('synthetic',)\n"
     ]
    }
   ],
   "source": [
    "cursor.execute(\"SHOW TABLES\")\n",
    "\n",
    "for x in cursor:\n",
    "  print(x) "
   ]
  },
  {
   "cell_type": "markdown",
   "id": "965a9a42",
   "metadata": {},
   "source": [
    "# Insert data with loop"
   ]
  },
  {
   "cell_type": "code",
   "execution_count": 22,
   "id": "0663f026",
   "metadata": {},
   "outputs": [],
   "source": [
    "for i in range(100):\n",
    "    x = i\n",
    "    y = x*x\n",
    "    query = \"INSERT into synthetic (X, Y) Values (\"+str(x) +\",\" + str(y) +\");\"\n",
    "    \n",
    "    #print(query)\n",
    "    \n",
    "    cursor.execute(query)"
   ]
  },
  {
   "cell_type": "code",
   "execution_count": 24,
   "id": "056b8b20",
   "metadata": {
    "scrolled": false
   },
   "outputs": [],
   "source": [
    "cursor.execute(\"select * from synthetic\")\n",
    "myresult = cursor.fetchall()\n",
    "\n",
    "X = []\n",
    "Y = []\n",
    "for row in myresult:\n",
    "    #print(row[0], row[0])\n",
    "    x = row[0]\n",
    "    y = row[1]\n",
    "    \n",
    "    X.append(x)\n",
    "    Y.append(y)"
   ]
  },
  {
   "cell_type": "code",
   "execution_count": 25,
   "id": "71a0eaba",
   "metadata": {},
   "outputs": [],
   "source": [
    "import numpy as np \n",
    "X = np.array(X)\n",
    "Y = np.array(Y)"
   ]
  },
  {
   "cell_type": "code",
   "execution_count": 26,
   "id": "59c83e45",
   "metadata": {},
   "outputs": [
    {
     "data": {
      "image/png": "[encoded data removed]",
      "text/plain": [
       "<Figure size 432x288 with 1 Axes>"
      ]
     },
     "metadata": {
      "needs_background": "light"
     },
     "output_type": "display_data"
    }
   ],
   "source": [
    "from matplotlib import pyplot as plt\n",
    "plt.plot(X, Y)\n",
    "plt.show()"
   ]
  },
  {
   "cell_type": "code",
   "execution_count": null,
   "id": "6cdb7668",
   "metadata": {},
   "outputs": [],
   "source": []
  }
 ],
 "metadata": {
  "kernelspec": {
   "display_name": "Python 3 (ipykernel)",
   "language": "python",
   "name": "python3"
  },
  "language_info": {
   "codemirror_mode": {
    "name": "ipython",
    "version": 3
   },
   "file_extension": ".py",
   "mimetype": "text/x-python",
   "name": "python",
   "nbconvert_exporter": "python",
   "pygments_lexer": "ipython3",
   "version": "3.8.10"
  }
 },
 "nbformat": 4,
 "nbformat_minor": 5
}

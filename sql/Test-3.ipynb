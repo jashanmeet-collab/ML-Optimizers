{
 "cells": [
  {
   "cell_type": "markdown",
   "id": "62cc5244",
   "metadata": {},
   "source": [
    "# Play with mysql data using sqlalchemy and pandas"
   ]
  },
  {
   "cell_type": "code",
   "execution_count": 26,
   "id": "6cdb7668",
   "metadata": {},
   "outputs": [],
   "source": [
    "from sqlalchemy import create_engine\n",
    "username = 'root'\n",
    "password = 'root'\n",
    "database = 'test'\n",
    "\n",
    "conn_string = \"mysql://\" + username+\":\"+password+\"@localhost/\"+database\n",
    "\n",
    "#print(conn_string)\n",
    "engine = create_engine(conn_string)"
   ]
  },
  {
   "cell_type": "code",
   "execution_count": 5,
   "id": "03b735df",
   "metadata": {},
   "outputs": [],
   "source": [
    "import pandas as pd"
   ]
  },
  {
   "cell_type": "code",
   "execution_count": 6,
   "id": "a71d3e93",
   "metadata": {},
   "outputs": [],
   "source": [
    "from sklearn.datasets import fetch_california_housing"
   ]
  },
  {
   "cell_type": "code",
   "execution_count": 7,
   "id": "20a559bd",
   "metadata": {},
   "outputs": [],
   "source": [
    "housing_pd = fetch_california_housing(as_frame=True)"
   ]
  },
  {
   "cell_type": "code",
   "execution_count": 8,
   "id": "c7aeb616",
   "metadata": {},
   "outputs": [
    {
     "name": "stdout",
     "output_type": "stream",
     "text": [
      "<class 'sklearn.utils.Bunch'>\n"
     ]
    }
   ],
   "source": [
    "print(type(housing_pd))"
   ]
  },
  {
   "cell_type": "markdown",
   "id": "b6b047fc",
   "metadata": {},
   "source": [
    "# Check all the tables in the test database"
   ]
  },
  {
   "cell_type": "code",
   "execution_count": 27,
   "id": "44cf644d",
   "metadata": {},
   "outputs": [],
   "source": [
    "import MySQLdb \n",
    "myuser = 'root'\n",
    "mypassword = 'root'\n",
    "database = 'test'\n",
    "\n",
    "db_connection= MySQLdb.connect(\"localhost\",myuser,mypassword, database)"
   ]
  },
  {
   "cell_type": "code",
   "execution_count": 30,
   "id": "80779508",
   "metadata": {},
   "outputs": [],
   "source": [
    "cursor = db_connection.cursor()"
   ]
  },
  {
   "cell_type": "code",
   "execution_count": 31,
   "id": "6d7337d2",
   "metadata": {},
   "outputs": [
    {
     "name": "stdout",
     "output_type": "stream",
     "text": [
      "('customers',)\n",
      "('customers2',)\n",
      "('myHousing',)\n",
      "('myHousing2',)\n",
      "('synthetic',)\n"
     ]
    }
   ],
   "source": [
    "cursor.execute(\"SHOW TABLES\")\n",
    "\n",
    "for x in cursor:\n",
    "  print(x) "
   ]
  },
  {
   "cell_type": "markdown",
   "id": "20db44c8",
   "metadata": {},
   "source": [
    "# Insert a new table using pandas dataframe"
   ]
  },
  {
   "cell_type": "code",
   "execution_count": 29,
   "id": "24e0d5ea",
   "metadata": {},
   "outputs": [],
   "source": [
    "housing_pd['data'].to_sql('myHousing',engine)"
   ]
  },
  {
   "cell_type": "markdown",
   "id": "849fa513",
   "metadata": {},
   "source": [
    "# See the data in myHousing"
   ]
  },
  {
   "cell_type": "code",
   "execution_count": 24,
   "id": "bc9ad4fa",
   "metadata": {},
   "outputs": [
    {
     "name": "stdout",
     "output_type": "stream",
     "text": [
      "(0, 8.3252, 41.0, 6.984126984126984, 1.0238095238095237, 322.0, 2.5555555555555554, 37.88, -122.23)\n",
      "(1, 8.3014, 21.0, 6.238137082601054, 0.9718804920913884, 2401.0, 2.109841827768014, 37.86, -122.22)\n",
      "(2, 7.2574, 52.0, 8.288135593220339, 1.073446327683616, 496.0, 2.8022598870056497, 37.85, -122.24)\n",
      "(3, 5.6431, 52.0, 5.8173515981735155, 1.0730593607305936, 558.0, 2.547945205479452, 37.85, -122.25)\n",
      "(4, 3.8462, 52.0, 6.281853281853282, 1.0810810810810811, 565.0, 2.1814671814671813, 37.85, -122.25)\n",
      "(5, 4.0368, 52.0, 4.761658031088083, 1.1036269430051813, 413.0, 2.139896373056995, 37.85, -122.25)\n",
      "(6, 3.6591, 52.0, 4.9319066147859925, 0.9513618677042801, 1094.0, 2.1284046692607004, 37.84, -122.25)\n",
      "(7, 3.12, 52.0, 4.797527047913447, 1.061823802163833, 1157.0, 1.7882534775888717, 37.84, -122.25)\n",
      "(8, 2.0804, 42.0, 4.294117647058823, 1.1176470588235294, 1206.0, 2.026890756302521, 37.84, -122.26)\n",
      "(9, 3.6912, 52.0, 4.970588235294118, 0.9901960784313726, 1551.0, 2.172268907563025, 37.84, -122.25)\n"
     ]
    }
   ],
   "source": [
    "cursor.execute(\"select * from myHousing LIMIT 10\")\n",
    "\n",
    "for x in cursor:\n",
    "  print(x) "
   ]
  },
  {
   "cell_type": "code",
   "execution_count": 25,
   "id": "597e020c",
   "metadata": {},
   "outputs": [
    {
     "name": "stdout",
     "output_type": "stream",
     "text": [
      "('index', 'bigint', 'YES', 'MUL', None, '')\n",
      "('MedInc', 'double', 'YES', '', None, '')\n",
      "('HouseAge', 'double', 'YES', '', None, '')\n",
      "('AveRooms', 'double', 'YES', '', None, '')\n",
      "('AveBedrms', 'double', 'YES', '', None, '')\n",
      "('Population', 'double', 'YES', '', None, '')\n",
      "('AveOccup', 'double', 'YES', '', None, '')\n",
      "('Latitude', 'double', 'YES', '', None, '')\n",
      "('Longitude', 'double', 'YES', '', None, '')\n"
     ]
    }
   ],
   "source": [
    "cursor.execute(\"describe myHousing\")\n",
    "\n",
    "for x in cursor:\n",
    "  print(x) "
   ]
  },
  {
   "cell_type": "code",
   "execution_count": null,
   "id": "06296502",
   "metadata": {},
   "outputs": [],
   "source": []
  }
 ],
 "metadata": {
  "kernelspec": {
   "display_name": "Python 3 (ipykernel)",
   "language": "python",
   "name": "python3"
  },
  "language_info": {
   "codemirror_mode": {
    "name": "ipython",
    "version": 3
   },
   "file_extension": ".py",
   "mimetype": "text/x-python",
   "name": "python",
   "nbconvert_exporter": "python",
   "pygments_lexer": "ipython3",
   "version": "3.8.10"
  }
 },
 "nbformat": 4,
 "nbformat_minor": 5
}

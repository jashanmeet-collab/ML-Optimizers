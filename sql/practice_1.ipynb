{
 "cells": [
  {
   "cell_type": "markdown",
   "id": "b9f3c283",
   "metadata": {},
   "source": [
    "# Date 1st jan 2022"
   ]
  },
  {
   "cell_type": "code",
   "execution_count": 1,
   "id": "eaf72baf",
   "metadata": {},
   "outputs": [],
   "source": [
    "import MySQLdb \n",
    "myuser = 'root'\n",
    "mypassword = 'root'"
   ]
  },
  {
   "cell_type": "code",
   "execution_count": 2,
   "id": "5113dfd2",
   "metadata": {},
   "outputs": [],
   "source": [
    "db_connection= MySQLdb.connect(\"localhost\",myuser,mypassword)"
   ]
  },
  {
   "cell_type": "code",
   "execution_count": 3,
   "id": "088baac5",
   "metadata": {},
   "outputs": [],
   "source": [
    "cursor = db_connection.cursor()\n"
   ]
  },
  {
   "cell_type": "code",
   "execution_count": 4,
   "id": "ae2465b3",
   "metadata": {},
   "outputs": [
    {
     "data": {
      "text/plain": [
       "1"
      ]
     },
     "execution_count": 4,
     "metadata": {},
     "output_type": "execute_result"
    }
   ],
   "source": [
    "cursor.execute(\"Create database test2\")"
   ]
  },
  {
   "cell_type": "markdown",
   "id": "ff7a2690",
   "metadata": {},
   "source": [
    "# Create database"
   ]
  },
  {
   "cell_type": "code",
   "execution_count": 7,
   "id": "582271de",
   "metadata": {},
   "outputs": [
    {
     "data": {
      "text/plain": [
       "1"
      ]
     },
     "execution_count": 7,
     "metadata": {},
     "output_type": "execute_result"
    }
   ],
   "source": [
    "query = \"CREATE DATABASE companyHR;\"\n",
    "cursor.execute(query)"
   ]
  },
  {
   "cell_type": "code",
   "execution_count": 10,
   "id": "d9e9bc8f",
   "metadata": {},
   "outputs": [
    {
     "name": "stdout",
     "output_type": "stream",
     "text": [
      "('companyHR',)\n",
      "('information_schema',)\n",
      "('mysql',)\n",
      "('performance_schema',)\n",
      "('sys',)\n",
      "('test',)\n",
      "('test2',)\n"
     ]
    }
   ],
   "source": [
    "cursor.execute(\"show databases;\")\n",
    "\n",
    "res = cursor.fetchall()\n",
    "\n",
    "for r in res:\n",
    "    print(r)"
   ]
  },
  {
   "cell_type": "code",
   "execution_count": 6,
   "id": "2a98d6c9",
   "metadata": {},
   "outputs": [
    {
     "data": {
      "text/plain": [
       "0"
      ]
     },
     "execution_count": 6,
     "metadata": {},
     "output_type": "execute_result"
    }
   ],
   "source": [
    "cursor.execute(\"show tables;\")"
   ]
  },
  {
   "cell_type": "code",
   "execution_count": null,
   "id": "3ac0f7c6",
   "metadata": {},
   "outputs": [],
   "source": []
  }
 ],
 "metadata": {
  "kernelspec": {
   "display_name": "Python 3 (ipykernel)",
   "language": "python",
   "name": "python3"
  },
  "language_info": {
   "codemirror_mode": {
    "name": "ipython",
    "version": 3
   },
   "file_extension": ".py",
   "mimetype": "text/x-python",
   "name": "python",
   "nbconvert_exporter": "python",
   "pygments_lexer": "ipython3",
   "version": "3.8.10"
  }
 },
 "nbformat": 4,
 "nbformat_minor": 5
}
